{
 "cells": [
  {
   "cell_type": "markdown",
   "metadata": {},
   "source": [
    "# Sessió 4"
   ]
  },
  {
   "cell_type": "markdown",
   "metadata": {},
   "source": [
    "### Exercici 1: Expressions regulars\n",
    "\n",
    "En aquest exercici treballarem amb les expressions regulars. Vegeu l'explicació del fitxer Readme per conèixer com funcionen. A continuació us mostrem alguns exemples i després us proposem 2 exercicis."
   ]
  },
  {
   "cell_type": "markdown",
   "metadata": {},
   "source": [
    "Exemples resolts:"
   ]
  },
  {
   "cell_type": "code",
   "execution_count": 1,
   "metadata": {},
   "outputs": [
    {
     "name": "stdout",
     "output_type": "stream",
     "text": [
      "Match at index 0, 7\n",
      "Full match: June 24\n"
     ]
    }
   ],
   "source": [
    "import re\n",
    "regex = r\"([a-zA-Z]+) (\\d+)\"\n",
    "if re.search(regex, \"June 24\"):\n",
    "    match = re.search(regex, \"June 24\")\n",
    "    print(\"Match at index %s, %s\" % (match.start(), match.end()))\n",
    "    print(\"Full match: %s\" % (match.group()))\n",
    "else:\n",
    "    print(\"The regex pattern does not match. :(\")"
   ]
  },
  {
   "cell_type": "code",
   "execution_count": 2,
   "metadata": {},
   "outputs": [
    {
     "name": "stdout",
     "output_type": "stream",
     "text": [
      "I found one!\n"
     ]
    }
   ],
   "source": [
    "import re\n",
    "line = \"He is a German called Mayer.\"\n",
    "if re.search(r\"M[ae][iy]er\",line): print(\"I found one!\")"
   ]
  },
  {
   "cell_type": "code",
   "execution_count": 3,
   "metadata": {},
   "outputs": [
    {
     "name": "stdout",
     "output_type": "stream",
     "text": [
      "I found one!\n"
     ]
    }
   ],
   "source": [
    "line = \"He is a German called Meier.\"\n",
    "if re.search(r\"M[ae][iy]er\",line): print(\"I found one!\")"
   ]
  },
  {
   "cell_type": "code",
   "execution_count": 4,
   "metadata": {},
   "outputs": [
    {
     "name": "stdout",
     "output_type": "stream",
     "text": [
      "232454\n",
      "(17, 23)\n",
      "17\n",
      "23\n",
      "17\n",
      "23\n"
     ]
    }
   ],
   "source": [
    "import re\n",
    "mo = re.search(\"[0-9]+\", \"Customer number: 232454, Date: February 12, 2011\")\n",
    "print(mo.group())\n",
    "print(mo.span())\n",
    "print(mo.start())\n",
    "print(mo.end())\n",
    "print(mo.span()[0])\n",
    "print(mo.span()[1])"
   ]
  },
  {
   "cell_type": "markdown",
   "metadata": {},
   "source": [
    "### Exercici 1.1: Una expressió regular pels codis postal al Regne Unit. \n",
    "\n",
    "Els codis postal al Regne Unit tenen entre 5 i 7 caràcters, separats en dues parts per un espai en blanc. \n",
    "\n",
    "+ Els 2-4 caràcters abans de l'espai representen un codi que indica l'oficina on ha d'arribar.\n",
    "+ Aquest codi té aquesta forma: Un o dos caràcters en majúscula, seguits per un dígit o la lletra ``R``, opcionalment seguit d'un caràcter en majúscula o un dígit. \n",
    "+ La part que segueix l'espai, que és un dígit més dues lletres en majúscula, es necessària per ordenar les cartes a l'oficina. \n",
    "+ Aquests dos darrers caràcters no poden ser cap d'aquestes lletres: ``CIKMOV``\n",
    "\n",
    "Escriu un programa fent servir expressions regulars que comprovi si un seguit d'adreces són correctes."
   ]
  },
  {
   "cell_type": "code",
   "execution_count": null,
   "metadata": {},
   "outputs": [],
   "source": [
    "import re\n",
    "\n",
    "codis          = [\"SW1A 0AA\", # House of Commons\n",
    "                 \"SW1A 1AA\", # Buckingham Palace\n",
    "                 \"SW1A 2AA\", # Downing Street\n",
    "                 \"BX3 2BB\", # Barclays Bank\n",
    "                 \"DH98 1BT\", # British Telecom\n",
    "                 \"N1 9GU\", # Guardian Newspaper\n",
    "                 \"E98 1TT\", # The Times\n",
    "                 \"TIM E22\", # a fake postcode\n",
    "                 \"TIR3 3MM\", # a fake postcode\n",
    "                 \"TIR3 3LL\", # a fake postcode\n",
    "                 \"A B1 A22\", # not a valid postcode\n",
    "                 \"EC2N 2DB\", # Deutsche Bank\n",
    "                 \"SE9 2UG\", # University of Greenwhich\n",
    "                 \"N1 0UY\", # Islington, London\n",
    "                 \"EC1V 8DS\", # Clerkenwell, London\n",
    "                 \"WC1X 9DT\", # WC1X 9DT\n",
    "                 \"B42 1LG\", # Birmingham\n",
    "                 \"B28 9AD\", # Birmingham\n",
    "                 \"W12 7RJ\", # London, BBC News Centre\n",
    "                 \"BBC 007\" # a fake postcode\n",
    "                ]\n",
    "\n",
    "pc_re = # escriu aquí la teva expressió regular\n",
    "\n",
    "for postcode in codis:\n",
    "    r = re.search(pc_re, postcode)\n",
    "    if r:\n",
    "        print(postcode + \" matched!\")\n",
    "    else:\n",
    "        print(postcode + \" is not a valid postcode!\")"
   ]
  },
  {
   "cell_type": "markdown",
   "metadata": {},
   "source": [
    "### Exercici 1.2: Escriu el codi per validar una adreça IP amb expressions regulars\n",
    "\n",
    ">  Una adreça IP vàlida ha de tenir la forma xxx.xxx.xxx.xxx, on xxx és un nombre entre 0 i 255. "
   ]
  },
  {
   "cell_type": "code",
   "execution_count": null,
   "metadata": {
    "collapsed": true
   },
   "outputs": [],
   "source": [
    "patro = # escriu el teu patró aquí\n",
    "\n",
    "ip = re.compile(patro)\n",
    "\n",
    "if ip.search(\"73.60.124.136\"):\n",
    "    print(\"73.60.124.136 és vàlida\")\n",
    "\n",
    "if ip.search(\"256.60.124.136\"):\n",
    "    print(\"256.60.124.136 és vàlida\")\n",
    "    \n",
    "if ip.search(\"30.168.1.255.1\"):\n",
    "    print(\"30.168.1.255.1 és vàlida\")"
   ]
  },
  {
   "cell_type": "markdown",
   "metadata": {},
   "source": [
    "### Exercici 3: All substrings\n",
    "\n",
    "Fes un programa que retorni una llista (calculada amb una *comprehension*) amb tots els substrings d'un string."
   ]
  },
  {
   "cell_type": "code",
   "execution_count": null,
   "metadata": {
    "collapsed": true
   },
   "outputs": [],
   "source": [
    "def get_all_substrings(input_string):\n",
    "    return pass\n",
    "\n",
    "assert len(get_all_substrings('abcde'))==int((len('abcdef')*(len('abcdef')-1)/2))\n",
    "\n",
    "print(get_all_substrings('abcde'))"
   ]
  },
  {
   "cell_type": "markdown",
   "metadata": {},
   "source": [
    "### Exercici 4: Generació de les edicions a distància 1 d'una paraula\n",
    "\n",
    "Escriure un programa que generi **el conjunt** de totes les variacions d'edició (distància 1) d'una paraula. \n",
    "\n",
    "Suposem que:\n",
    "+ Només usem les lletres ``abcdefghijklmnopqrstuvwxyz``\n",
    "+ Les operacions d'edició són: eliminar una lletra, transposar un parell de lletres, reemplaçar una lletra per una altra i insertar una lletra.\n",
    "\n",
    "Indicacions: \n",
    "+ Cada un dels tipus d'edició es pot escriure com una *comprehension*.\n",
    "+ Si la primera cosa que feu al principi és considerar totes les divisions possibles d'una paraula (per exemple, si per la paraula ```casa``` genereu ```('', 'casa'), ('c', 'asa'), ('ca', 'sa'), ('cas', 'a'), ('casa', '')```), es poden generar les edicions a partir d'aquesta llista."
   ]
  },
  {
   "cell_type": "code",
   "execution_count": null,
   "metadata": {
    "collapsed": true
   },
   "outputs": [],
   "source": [
    "def edit(word):\n",
    "    letters    = 'abcdefghijklmnopqrstuvwxyz'\n",
    "    splits     = # escriu una comprensio\n",
    "    deletes    = # escriu una comprensio\n",
    "    transposes = # escriu una comprensio\n",
    "    replaces   = # escriu una comprensio\n",
    "    inserts    = # escriu una comprensio\n",
    "    return set(deletes + transposes + replaces + inserts)\n",
    "\n",
    "assert edit('h') == {'','a','ah','b', 'bh', 'c', 'ch', 'd', 'dh', 'e', 'eh', 'f', 'fh', \n",
    "                     'g', 'gh', 'h', 'ha', 'hb', 'hc', 'hd', 'he', 'hf', 'hg', 'hh',\n",
    "                     'hi', 'hj', 'hk', 'hl', 'hm', 'hn', 'ho', 'hp', 'hq', 'hr', 'hs',\n",
    "                     'ht', 'hu', 'hv', 'hw', 'hx', 'hy', 'hz', 'i', 'ih', 'j', 'jh',\n",
    "                     'k', 'kh', 'l', 'lh', 'm', 'mh', 'n', 'nh', 'o', 'oh', 'p', 'ph',\n",
    "                     'q', 'qh', 'r', 'rh', 's', 'sh', 't',  'th', 'u', 'uh', 'v', 'vh',\n",
    "                     'w', 'wh', 'x', 'xh', 'y', 'yh', 'z', 'zh'}"
   ]
  },
  {
   "cell_type": "markdown",
   "metadata": {},
   "source": [
    "### Exercici 5: Strings Isomòrfics\n",
    "\n",
    "Donats dos strings ``s`` i ``t``, dgterminar si són isomòrfics.\n",
    "\n",
    "Direm que dos strings són isomòrfics si hi ha una correspondència entre tots i cada un dels caràcters de ``s`` i els de ``t``.\n",
    "\n",
    "Indicació: Us pot ser útil la funció ``zip``. Aquesta funció enllaça els elements de dues col·leccions un a un com si d'una cremallera es tractés."
   ]
  },
  {
   "cell_type": "code",
   "execution_count": 21,
   "metadata": {},
   "outputs": [
    {
     "name": "stdout",
     "output_type": "stream",
     "text": [
      "h a\n",
      "o d\n",
      "l e\n",
      "a u\n"
     ]
    }
   ],
   "source": [
    "for i,j in zip('hola', 'adeu'):\n",
    "    print(i,j)"
   ]
  },
  {
   "cell_type": "code",
   "execution_count": null,
   "metadata": {
    "collapsed": true
   },
   "outputs": [],
   "source": [
    "def isIsomorphic(s, t):\n",
    "    return pass\n",
    "\n",
    "assert isIsomorphic('aba','xyx') == True\n",
    "assert isIsomorphic('aba','xyz') == False\n",
    "assert isIsomporhic('abm','xyx') == False"
   ]
  },
  {
   "cell_type": "markdown",
   "metadata": {},
   "source": [
    "### Exercici 6:  Palíndroms\n",
    "\n",
    "Un palíndrom és una paraula, frase o grup de paraules les lletres de les quals es repeteixen en el mateix ordre quan són llegides en la direcció inversa. Exemples: \"Anna\", \"Llull\". \n",
    "\n",
    "Indicació: Recordeu que fent servir \"slicing\" podeu invertir un string!"
   ]
  },
  {
   "cell_type": "code",
   "execution_count": null,
   "metadata": {
    "collapsed": true
   },
   "outputs": [],
   "source": [
    "def isPalindrome(num):\n",
    "    return pass\n",
    "\n",
    "assert isPalindrome(\"llull\")==True\n",
    "assert isPalindrome(\"llullu\")==False"
   ]
  },
  {
   "cell_type": "markdown",
   "metadata": {},
   "source": [
    "### Exercici 7:  Longitud del substring més llarg de caràcters diferents.\n",
    "\n",
    "Escriu un programa que retorni la longitud del substring format per caràcters diferents més gran que trobis d'uns d'un string."
   ]
  },
  {
   "cell_type": "code",
   "execution_count": null,
   "metadata": {
    "collapsed": true
   },
   "outputs": [],
   "source": [
    "def llargSubstring(s):\n",
    "    return pass\n",
    "\n",
    "assert llargSubstring('aaaabccc') == 3"
   ]
  }
 ],
 "metadata": {
  "kernelspec": {
   "display_name": "Python 3",
   "language": "python",
   "name": "python3"
  },
  "language_info": {
   "codemirror_mode": {
    "name": "ipython",
    "version": 3
   },
   "file_extension": ".py",
   "mimetype": "text/x-python",
   "name": "python",
   "nbconvert_exporter": "python",
   "pygments_lexer": "ipython3",
   "version": "3.6.2"
  }
 },
 "nbformat": 4,
 "nbformat_minor": 2
}
