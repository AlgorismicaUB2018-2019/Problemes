{
 "cells": [
  {
   "cell_type": "markdown",
   "metadata": {},
   "source": [
    "# Sessió de problemes 5: Recursivitat, teorema Màster i fitxers"
   ]
  },
  {
   "cell_type": "markdown",
   "metadata": {},
   "source": [
    "## Problema 1: Força bruta: producte de conjunts\n",
    "\n",
    "Donats dos conjunts, $A$ i $B$, el producte d'aquests dos conjunts és el conjunt $A \\times B$ format per totes les parelles ordenades $(a, b)$ en què $a \\in A$ i $b \\in B$.\n",
    "\n",
    "Si tenim un nombre conegut de conjunts és fàcil fer-ho amb comprehensions:"
   ]
  },
  {
   "cell_type": "code",
   "execution_count": 8,
   "metadata": {},
   "outputs": [
    {
     "data": {
      "text/plain": [
       "{'ADG',\n",
       " 'ADH',\n",
       " 'AEG',\n",
       " 'AEH',\n",
       " 'AFG',\n",
       " 'AFH',\n",
       " 'BDG',\n",
       " 'BDH',\n",
       " 'BEG',\n",
       " 'BEH',\n",
       " 'BFG',\n",
       " 'BFH',\n",
       " 'CDG',\n",
       " 'CDH',\n",
       " 'CEG',\n",
       " 'CEH',\n",
       " 'CFG',\n",
       " 'CFH'}"
      ]
     },
     "execution_count": 8,
     "metadata": {},
     "output_type": "execute_result"
    }
   ],
   "source": [
    "{a+b+c for a in {'A','B','C'} for b in {'D','E','F'} for c in {'G','H'}}"
   ]
  },
  {
   "cell_type": "markdown",
   "metadata": {},
   "source": [
    "Però si volem fer una funció que calculi el producte d'un nombre variable de conjunts, ja no es tant fàcil fer-ho amb comprensions i ho és més fer-ho recursivament. Com ho farieu?"
   ]
  },
  {
   "cell_type": "code",
   "execution_count": null,
   "metadata": {
    "collapsed": true
   },
   "outputs": [],
   "source": [
    "a = {'A','B','C'} \n",
    "b = {'D','E','F'} \n",
    "c = {'G','H'}\n",
    "l1 = [a,b,c]\n",
    "\n",
    "def set_prod(l):\n",
    "    pass\n",
    "\n",
    "assert set_prod(l1) == {'ADG', 'ADH', 'AEG', 'AEH', 'AFG', 'AFH', 'BDG', 'BDH', 'BEG', 'BEH', 'BFG', 'BFH', 'CDG', 'CDH', 'CEG', 'CEH', 'CFG', 'CFH'}\n",
    "\n",
    "assert set_prod(l2) == {'AD', 'AE', 'AF', 'BD', 'BE', 'BF', 'CD', 'CE', 'CF'}"
   ]
  },
  {
   "cell_type": "markdown",
   "metadata": {},
   "source": [
    "## Problema 2: Combinacions de tecles"
   ]
  },
  {
   "cell_type": "markdown",
   "metadata": {},
   "source": [
    "<img src=\"keypad.png\" width=\"250px\" alt=\"2 ABC, 3 DEF, 4 GHI, 5 JKL, 6 MNO, 7 PQRS, 8 TUV, 9 WXYZ\" style=\"float:left; margin:0 10px 0 0\" /> \n",
    "\n",
    "\n",
    "Donada una seqüència de nombres entre 2 i 9, mostrar totes les possibles paraules que es poden formar amb les lletres associades a aquests nombres en un teclat de mòbil antic, com el que està dibuixat aquí.\n"
   ]
  },
  {
   "cell_type": "markdown",
   "metadata": {},
   "source": [
    "<div style=\"font-style:italic\">\n",
    "Per exemple:\n",
    "<ul>\n",
    "<li>Tecles=[tecla2,tecla3,tecla4]</li>\n",
    "<li>Solució:\n",
    "   <ul>\n",
    "   <li>ADG, BDG, AEG, BEG, CEG, AFG, BFG, CFG, ADH, BDH, CDH, AEH, BEH, CEH, AFH, BFH, CFH, ADI, BDI, CDI, AEI, BEI, CEI, AFI, BFI, CFI</li>\n",
    "   </ul>\n",
    "</li>\n",
    "</ul>\n",
    "</div>"
   ]
  },
  {
   "cell_type": "code",
   "execution_count": 11,
   "metadata": {
    "collapsed": true
   },
   "outputs": [],
   "source": [
    "# inserir aquí la solució"
   ]
  },
  {
   "cell_type": "markdown",
   "metadata": {},
   "source": [
    "Escriviu una versió de la solució en la que llegiu les lletres associades a cada tecla des del fitxer \"tecles.txt\" que us facilitem."
   ]
  },
  {
   "cell_type": "code",
   "execution_count": null,
   "metadata": {
    "collapsed": true
   },
   "outputs": [],
   "source": [
    "# inserir aquí la solució (atenció: vigileu amb els \\n de final de línia)"
   ]
  },
  {
   "cell_type": "code",
   "execution_count": 12,
   "metadata": {},
   "outputs": [
    {
     "data": {
      "text/plain": [
       "['ADGWA',\n",
       " 'ADGWB',\n",
       " 'ADGWC',\n",
       " 'ADGXA',\n",
       " 'ADGXB',\n",
       " 'ADGXC',\n",
       " 'ADGYA',\n",
       " 'ADGYB',\n",
       " 'ADGYC',\n",
       " 'ADGZA',\n",
       " 'ADGZB',\n",
       " 'ADGZC',\n",
       " 'ADHWA',\n",
       " 'ADHWB',\n",
       " 'ADHWC',\n",
       " 'ADHXA',\n",
       " 'ADHXB',\n",
       " 'ADHXC',\n",
       " 'ADHYA',\n",
       " 'ADHYB',\n",
       " 'ADHYC',\n",
       " 'ADHZA',\n",
       " 'ADHZB',\n",
       " 'ADHZC',\n",
       " 'ADIWA',\n",
       " 'ADIWB',\n",
       " 'ADIWC',\n",
       " 'ADIXA',\n",
       " 'ADIXB',\n",
       " 'ADIXC',\n",
       " 'ADIYA',\n",
       " 'ADIYB',\n",
       " 'ADIYC',\n",
       " 'ADIZA',\n",
       " 'ADIZB',\n",
       " 'ADIZC',\n",
       " 'AEGWA',\n",
       " 'AEGWB',\n",
       " 'AEGWC',\n",
       " 'AEGXA',\n",
       " 'AEGXB',\n",
       " 'AEGXC',\n",
       " 'AEGYA',\n",
       " 'AEGYB',\n",
       " 'AEGYC',\n",
       " 'AEGZA',\n",
       " 'AEGZB',\n",
       " 'AEGZC',\n",
       " 'AEHWA',\n",
       " 'AEHWB',\n",
       " 'AEHWC',\n",
       " 'AEHXA',\n",
       " 'AEHXB',\n",
       " 'AEHXC',\n",
       " 'AEHYA',\n",
       " 'AEHYB',\n",
       " 'AEHYC',\n",
       " 'AEHZA',\n",
       " 'AEHZB',\n",
       " 'AEHZC',\n",
       " 'AEIWA',\n",
       " 'AEIWB',\n",
       " 'AEIWC',\n",
       " 'AEIXA',\n",
       " 'AEIXB',\n",
       " 'AEIXC',\n",
       " 'AEIYA',\n",
       " 'AEIYB',\n",
       " 'AEIYC',\n",
       " 'AEIZA',\n",
       " 'AEIZB',\n",
       " 'AEIZC',\n",
       " 'AFGWA',\n",
       " 'AFGWB',\n",
       " 'AFGWC',\n",
       " 'AFGXA',\n",
       " 'AFGXB',\n",
       " 'AFGXC',\n",
       " 'AFGYA',\n",
       " 'AFGYB',\n",
       " 'AFGYC',\n",
       " 'AFGZA',\n",
       " 'AFGZB',\n",
       " 'AFGZC',\n",
       " 'AFHWA',\n",
       " 'AFHWB',\n",
       " 'AFHWC',\n",
       " 'AFHXA',\n",
       " 'AFHXB',\n",
       " 'AFHXC',\n",
       " 'AFHYA',\n",
       " 'AFHYB',\n",
       " 'AFHYC',\n",
       " 'AFHZA',\n",
       " 'AFHZB',\n",
       " 'AFHZC',\n",
       " 'AFIWA',\n",
       " 'AFIWB',\n",
       " 'AFIWC',\n",
       " 'AFIXA',\n",
       " 'AFIXB',\n",
       " 'AFIXC',\n",
       " 'AFIYA',\n",
       " 'AFIYB',\n",
       " 'AFIYC',\n",
       " 'AFIZA',\n",
       " 'AFIZB',\n",
       " 'AFIZC',\n",
       " 'BDGWA',\n",
       " 'BDGWB',\n",
       " 'BDGWC',\n",
       " 'BDGXA',\n",
       " 'BDGXB',\n",
       " 'BDGXC',\n",
       " 'BDGYA',\n",
       " 'BDGYB',\n",
       " 'BDGYC',\n",
       " 'BDGZA',\n",
       " 'BDGZB',\n",
       " 'BDGZC',\n",
       " 'BDHWA',\n",
       " 'BDHWB',\n",
       " 'BDHWC',\n",
       " 'BDHXA',\n",
       " 'BDHXB',\n",
       " 'BDHXC',\n",
       " 'BDHYA',\n",
       " 'BDHYB',\n",
       " 'BDHYC',\n",
       " 'BDHZA',\n",
       " 'BDHZB',\n",
       " 'BDHZC',\n",
       " 'BDIWA',\n",
       " 'BDIWB',\n",
       " 'BDIWC',\n",
       " 'BDIXA',\n",
       " 'BDIXB',\n",
       " 'BDIXC',\n",
       " 'BDIYA',\n",
       " 'BDIYB',\n",
       " 'BDIYC',\n",
       " 'BDIZA',\n",
       " 'BDIZB',\n",
       " 'BDIZC',\n",
       " 'BEGWA',\n",
       " 'BEGWB',\n",
       " 'BEGWC',\n",
       " 'BEGXA',\n",
       " 'BEGXB',\n",
       " 'BEGXC',\n",
       " 'BEGYA',\n",
       " 'BEGYB',\n",
       " 'BEGYC',\n",
       " 'BEGZA',\n",
       " 'BEGZB',\n",
       " 'BEGZC',\n",
       " 'BEHWA',\n",
       " 'BEHWB',\n",
       " 'BEHWC',\n",
       " 'BEHXA',\n",
       " 'BEHXB',\n",
       " 'BEHXC',\n",
       " 'BEHYA',\n",
       " 'BEHYB',\n",
       " 'BEHYC',\n",
       " 'BEHZA',\n",
       " 'BEHZB',\n",
       " 'BEHZC',\n",
       " 'BEIWA',\n",
       " 'BEIWB',\n",
       " 'BEIWC',\n",
       " 'BEIXA',\n",
       " 'BEIXB',\n",
       " 'BEIXC',\n",
       " 'BEIYA',\n",
       " 'BEIYB',\n",
       " 'BEIYC',\n",
       " 'BEIZA',\n",
       " 'BEIZB',\n",
       " 'BEIZC',\n",
       " 'BFGWA',\n",
       " 'BFGWB',\n",
       " 'BFGWC',\n",
       " 'BFGXA',\n",
       " 'BFGXB',\n",
       " 'BFGXC',\n",
       " 'BFGYA',\n",
       " 'BFGYB',\n",
       " 'BFGYC',\n",
       " 'BFGZA',\n",
       " 'BFGZB',\n",
       " 'BFGZC',\n",
       " 'BFHWA',\n",
       " 'BFHWB',\n",
       " 'BFHWC',\n",
       " 'BFHXA',\n",
       " 'BFHXB',\n",
       " 'BFHXC',\n",
       " 'BFHYA',\n",
       " 'BFHYB',\n",
       " 'BFHYC',\n",
       " 'BFHZA',\n",
       " 'BFHZB',\n",
       " 'BFHZC',\n",
       " 'BFIWA',\n",
       " 'BFIWB',\n",
       " 'BFIWC',\n",
       " 'BFIXA',\n",
       " 'BFIXB',\n",
       " 'BFIXC',\n",
       " 'BFIYA',\n",
       " 'BFIYB',\n",
       " 'BFIYC',\n",
       " 'BFIZA',\n",
       " 'BFIZB',\n",
       " 'BFIZC',\n",
       " 'CDGWA',\n",
       " 'CDGWB',\n",
       " 'CDGWC',\n",
       " 'CDGXA',\n",
       " 'CDGXB',\n",
       " 'CDGXC',\n",
       " 'CDGYA',\n",
       " 'CDGYB',\n",
       " 'CDGYC',\n",
       " 'CDGZA',\n",
       " 'CDGZB',\n",
       " 'CDGZC',\n",
       " 'CDHWA',\n",
       " 'CDHWB',\n",
       " 'CDHWC',\n",
       " 'CDHXA',\n",
       " 'CDHXB',\n",
       " 'CDHXC',\n",
       " 'CDHYA',\n",
       " 'CDHYB',\n",
       " 'CDHYC',\n",
       " 'CDHZA',\n",
       " 'CDHZB',\n",
       " 'CDHZC',\n",
       " 'CDIWA',\n",
       " 'CDIWB',\n",
       " 'CDIWC',\n",
       " 'CDIXA',\n",
       " 'CDIXB',\n",
       " 'CDIXC',\n",
       " 'CDIYA',\n",
       " 'CDIYB',\n",
       " 'CDIYC',\n",
       " 'CDIZA',\n",
       " 'CDIZB',\n",
       " 'CDIZC',\n",
       " 'CEGWA',\n",
       " 'CEGWB',\n",
       " 'CEGWC',\n",
       " 'CEGXA',\n",
       " 'CEGXB',\n",
       " 'CEGXC',\n",
       " 'CEGYA',\n",
       " 'CEGYB',\n",
       " 'CEGYC',\n",
       " 'CEGZA',\n",
       " 'CEGZB',\n",
       " 'CEGZC',\n",
       " 'CEHWA',\n",
       " 'CEHWB',\n",
       " 'CEHWC',\n",
       " 'CEHXA',\n",
       " 'CEHXB',\n",
       " 'CEHXC',\n",
       " 'CEHYA',\n",
       " 'CEHYB',\n",
       " 'CEHYC',\n",
       " 'CEHZA',\n",
       " 'CEHZB',\n",
       " 'CEHZC',\n",
       " 'CEIWA',\n",
       " 'CEIWB',\n",
       " 'CEIWC',\n",
       " 'CEIXA',\n",
       " 'CEIXB',\n",
       " 'CEIXC',\n",
       " 'CEIYA',\n",
       " 'CEIYB',\n",
       " 'CEIYC',\n",
       " 'CEIZA',\n",
       " 'CEIZB',\n",
       " 'CEIZC',\n",
       " 'CFGWA',\n",
       " 'CFGWB',\n",
       " 'CFGWC',\n",
       " 'CFGXA',\n",
       " 'CFGXB',\n",
       " 'CFGXC',\n",
       " 'CFGYA',\n",
       " 'CFGYB',\n",
       " 'CFGYC',\n",
       " 'CFGZA',\n",
       " 'CFGZB',\n",
       " 'CFGZC',\n",
       " 'CFHWA',\n",
       " 'CFHWB',\n",
       " 'CFHWC',\n",
       " 'CFHXA',\n",
       " 'CFHXB',\n",
       " 'CFHXC',\n",
       " 'CFHYA',\n",
       " 'CFHYB',\n",
       " 'CFHYC',\n",
       " 'CFHZA',\n",
       " 'CFHZB',\n",
       " 'CFHZC',\n",
       " 'CFIWA',\n",
       " 'CFIWB',\n",
       " 'CFIWC',\n",
       " 'CFIXA',\n",
       " 'CFIXB',\n",
       " 'CFIXC',\n",
       " 'CFIYA',\n",
       " 'CFIYB',\n",
       " 'CFIYC',\n",
       " 'CFIZA',\n",
       " 'CFIZB',\n",
       " 'CFIZC']"
      ]
     },
     "execution_count": 12,
     "metadata": {},
     "output_type": "execute_result"
    }
   ],
   "source": [
    "teclat=[tecla2,tecla3,tecla4,tecla9,tecla2]\n",
    "combinacions(teclat)"
   ]
  },
  {
   "cell_type": "markdown",
   "metadata": {},
   "source": [
    "#### Pregunta 2.1: Quantes combinacions es poden crear amb 3 tecles? Quines combinacions es poden crear amb [2,3]?"
   ]
  },
  {
   "cell_type": "markdown",
   "metadata": {},
   "source": [
    "*Indica aquí la teva solució*"
   ]
  },
  {
   "cell_type": "markdown",
   "metadata": {},
   "source": [
    "#### Pregunta 2.2: Si $N$ és el nombre de tecles d'entrada, quina és la complexitat d'aquest algorisme?\n",
    "**Atenció**: abans de respondre comproveu si l'algorisme compleix els requisits per usar el teorema del màster, en cas contrari feu el càlcul de complexitat per combinatòria\n"
   ]
  },
  {
   "cell_type": "markdown",
   "metadata": {},
   "source": [
    "*Indica aquí la teva solució*"
   ]
  },
  {
   "cell_type": "markdown",
   "metadata": {},
   "source": [
    "## Problema 3: Càlcul de complexitat\n",
    "\n",
    "#### Pregunta 3.1. Calcula la complexitat de la següent funció recursiva, considerant la mida $n$ dels nombres en bits."
   ]
  },
  {
   "cell_type": "code",
   "execution_count": 14,
   "metadata": {},
   "outputs": [
    {
     "data": {
      "text/plain": [
       "180.0"
      ]
     },
     "execution_count": 14,
     "metadata": {},
     "output_type": "execute_result"
    }
   ],
   "source": [
    "def multiplica(x, y):\n",
    "    \"\"\"\n",
    "    Aquesta funció retorna la multiplicació de dos nombres expressats en binari\n",
    "    :param: x,y són nombres binaris introduits com a cadenes de text\n",
    "    :return: el resultat de la multiplicació\n",
    "    \"\"\"\n",
    "    n = max(len(x), len(y))\n",
    "    if n == 1:\n",
    "        return int(x)*int(y)\n",
    "    xleft, xright = x[:n//2], x[n//2:]\n",
    "    yleft, yright = y[:n//2], y[n//2:]\n",
    "    p1 = multiplica(xleft, yleft)\n",
    "    p2 = multiplica(xright, yright)\n",
    "    p3 = multiplica(str(int(xleft)+int(xright)), str(int(yleft)+int(yright)))\n",
    "    return p1*2**n+(p3-p1-p2)*2**(n/2)+p2\n",
    "\n",
    "multiplica(\"1111\",\"1100\") "
   ]
  },
  {
   "cell_type": "markdown",
   "metadata": {},
   "source": [
    "Solució\n",
    "\n",
    "a) Apuntem les complexitats de les operacions simples: \n",
    "\n",
    "| Operació | Complexitat |\n",
    "| -------- | ----------- |\n",
    "|          |             |\n",
    "\n",
    "    \n",
    "b) Apuntem la complexitat de cada bloc de codi\n",
    "\n",
    "| Bloc | Complexitat |\n",
    "| -------- | ----------- |\n",
    "|          |    O( )     |\n",
    "\n",
    "     \n",
    "c) Determinem els paràmetres del teorema de màster:  a =  , b =  , d =  . \n",
    "       \n",
    "d) Identifiquem el cas pertinent (cas  ) i apliquem el teorema de màster: O( ).\n",
    "    \n",
    "La funció multiplica té un cost      respecte al nombre de bits del nombre més llarg.\n",
    "    "
   ]
  },
  {
   "cell_type": "markdown",
   "metadata": {},
   "source": [
    "#### Pregunta 3.2 Calcula la complexitat segons el teorema de màster:\n",
    "\n",
    "<ol style=\"list-style-type:lower-alpha\">\n",
    "<li>$T(n)=2T(n/2)+n^{4}$</li>\n",
    "<li>$T(n)=T(7n/10)+n$</li>\n",
    "<li>$T(n)=16T(n/4)+n^{2}$</li>\n",
    "<li>$T(n)=2T(n/4)+sqrt(n)$</li>\n",
    "</ol>"
   ]
  },
  {
   "cell_type": "markdown",
   "metadata": {},
   "source": [
    "## Problema 4: Quantitat d'1s a una llista binària"
   ]
  },
  {
   "cell_type": "markdown",
   "metadata": {},
   "source": [
    "Donada una llista de nombres binaris ordenada, trobar de manera eficient el nombre d'1s que conté.\n",
    "\n",
    "Per exemple:\n",
    "+ La ``llista=[0,0,1,1,1,1,1]`` conté 5 1s.\n",
    "+ La ``llista=[0,0,0,0,1,1]`` conté 2 1s."
   ]
  },
  {
   "cell_type": "code",
   "execution_count": null,
   "metadata": {
    "collapsed": true
   },
   "outputs": [],
   "source": [
    "# Inserir aquí el codi de la solució\n",
    "\n",
    "def Nombre1(llista):\n",
    "    \"\"\"\n",
    "    Aquesta funció, donada una llista de nombres binaris ordenada,\n",
    "    troba de manera eficient el nombre d'1s que conté\n",
    "    :param llista, la llista de nombres binaris ordenada\n",
    "    :return el nombre d'1s que conté\n",
    "    \"\"\"\n",
    "    pass"
   ]
  },
  {
   "cell_type": "code",
   "execution_count": 13,
   "metadata": {},
   "outputs": [
    {
     "data": {
      "text/plain": [
       "5"
      ]
     },
     "execution_count": 13,
     "metadata": {},
     "output_type": "execute_result"
    }
   ],
   "source": [
    "Nombre1([0,0,1,1,1,1,1])"
   ]
  },
  {
   "cell_type": "markdown",
   "metadata": {},
   "source": [
    "Escriu una versió en la que llegeixis les llistes del fitxer input.txt i retornis el nombre d'1s al fitxer output.txt"
   ]
  },
  {
   "cell_type": "markdown",
   "metadata": {},
   "source": [
    "#### Pregunta 4.1 Si plantegem el problema com un algorisme recursiu, quins serien els casos base? Observa els següents casos:\n",
    "\n",
    "- Llista:``[]``\n",
    "- Llista:``[0,0]``\n",
    "- Llista:``[1,1,1,1,1,1]``\n",
    "- Llista:``[0,1,1]``"
   ]
  },
  {
   "cell_type": "markdown",
   "metadata": {},
   "source": [
    "*Indica aquí la teva solució*"
   ]
  },
  {
   "cell_type": "markdown",
   "metadata": {},
   "source": [
    "#### Pregunta 4.2 Calcula la complexitat de l'algorisme pel teorema màster"
   ]
  },
  {
   "cell_type": "markdown",
   "metadata": {},
   "source": [
    "*Indica aquí la teva solució*"
   ]
  },
  {
   "cell_type": "markdown",
   "metadata": {},
   "source": [
    "## Problema 5: Elements Pic"
   ]
  },
  {
   "cell_type": "markdown",
   "metadata": {},
   "source": [
    "Donada una llista d’enters, trobar un dels elements *pic*. Un enter serà un element *pic* si els seus veïns immediats són menors que ell. "
   ]
  },
  {
   "cell_type": "markdown",
   "metadata": {},
   "source": [
    "<div style=\"font-style:italic\">\n",
    "Per exemple:\n",
    "<ul>\n",
    "<li>Llista=[3,1,5,2,7,8]</li>\n",
    "<li>Solució:\n",
    "   <ul>\n",
    "   <li>Un dels elements pic és el 3</li>\n",
    "   <li>En aquesta llista en realitat hi ha diversos elements pic: el 3, el 5 i el 8.</li>\n",
    "   </ul>\n",
    "</li>\n",
    "<li>Llista=[9,5,2]</li>\n",
    "<li>Solució:\n",
    "   <ul>\n",
    "   <li>Un dels elements pic és el 9</li>\n",
    "   <li>En una llista ordenada en ordre descendent, l'element pic sempre serà el primer enter.</li>\n",
    "   </ul>\n",
    "</li>\n",
    "<li>Llista=[1,2,7,8]</li>\n",
    "<li>Solució:\n",
    "   <ul>\n",
    "   <li>Un dels elements pic és el 8</li>\n",
    "   <li>En una llista ordenada en ordre ascendent, l'element pic sempre serà el darrer enter.</li>\n",
    "   </ul>\n",
    "</li>\n",
    "</ul>\n",
    "</div>"
   ]
  },
  {
   "cell_type": "code",
   "execution_count": null,
   "metadata": {
    "collapsed": true
   },
   "outputs": [],
   "source": [
    "def elementPic(llista):\n",
    "    \"\"\"\n",
    "Donada una llista d’enters, trobar un dels elements pic.\n",
    "Un enter serà un element pic si els seus veïns immediats són menors que ell.\n",
    ":param llista, la llista d'enters\n",
    ":return els elements pics o -1 si no en troba\n",
    "\"\"\"\n",
    "    pass\n",
    "\n",
    "assert elementPic([1,2,7,8]) == 8\n",
    "assert elementPic(elementPic([1,2,7,8,5,6,7])) == 8"
   ]
  },
  {
   "cell_type": "markdown",
   "metadata": {},
   "source": [
    "#### Pregunta 5.1: Si plantegem el problema com un algorisme recursiu. Quins són els casos base? Observeu les següents llistes:\n",
    "\n",
    "- ```llista1 = [8,9,10,2,5,6]```\n",
    "- ```llista2 = [8,9,10,12,15]```\n",
    "- ```llista3 = [10,8,6,5,3,2]```"
   ]
  },
  {
   "cell_type": "markdown",
   "metadata": {},
   "source": [
    "*Indica aquí la teva solució*"
   ]
  },
  {
   "cell_type": "markdown",
   "metadata": {},
   "source": [
    "#### Pregunta 5.2: Calcula la complexitat de l'algorisme amb el teorema màster."
   ]
  },
  {
   "cell_type": "markdown",
   "metadata": {},
   "source": [
    "*Indica aquí la teva solució*"
   ]
  },
  {
   "cell_type": "markdown",
   "metadata": {},
   "source": [
    "## Problema 6: Nombres estrictament creixents"
   ]
  },
  {
   "cell_type": "markdown",
   "metadata": {},
   "source": [
    "<p style=\"font-family:Arial;font-size:1em\">\n",
    "Donat un enter N entre 1 i 9, trobar tots els nombres amb N dígits, dels quals el valor és estrictament creixent.\n",
    "</p>"
   ]
  },
  {
   "cell_type": "markdown",
   "metadata": {},
   "source": [
    "*Per exemple*:\n",
    "+ N=8\n",
    "+ Solució: 12345678, 12345679, 12345689, 12346789, 12356789, 12456789, 13456789, 23456789"
   ]
  },
  {
   "cell_type": "code",
   "execution_count": 20,
   "metadata": {
    "collapsed": true
   },
   "outputs": [],
   "source": [
    "def estrCreix(n):\n",
    "    \"\"\"\n",
    "Aquesta funció troba tots els nombres amb N dígits, amb valor\n",
    "estrictament creixent\n",
    ":param n, un enter entre 1 i 9\n",
    ":return no retorna res, mostra el resultat per pantalla\n",
    "\"\"\"\n",
    "    pass\n",
    "\n",
    "\n",
    "def estrCreixRec(cadena, n, previ):\n",
    "    \"\"\"\n",
    "Aquesta funció troba tots els nombres amb N dígits, amb valor\n",
    " estrictament creixent\n",
    ":param cadena, una cadena amb la preparació d'un nombre creixent amb x dígits\n",
    ":param n, un enter entre 1 i 9, que en aquest cas indica els dígit que falta\n",
    "          completar\n",
    ":param previ, el darrer dígit de la cadena\n",
    ":return no retorna res, mostra el resultat per pantalla\n",
    "\"\"\"\n",
    "    pass\n",
    "\n",
    "estrCreix(8)"
   ]
  },
  {
   "cell_type": "markdown",
   "metadata": {},
   "source": [
    "#### Pregunta 6.1: Quina solució hauria de donar per als següents valors:"
   ]
  },
  {
   "cell_type": "markdown",
   "metadata": {},
   "source": [
    "- N=9\n",
    "- N=2"
   ]
  },
  {
   "cell_type": "markdown",
   "metadata": {},
   "source": [
    "*Indica aquí la teva solució*"
   ]
  },
  {
   "cell_type": "markdown",
   "metadata": {},
   "source": [
    "#### Pregunta 6.2: Imaginem que volem construir un número de 7 dígits (N=7) i que ja tenim escrit el nombre fins al dígit 6è (123456). Quantes crides recursives ha de fer el programa encara?"
   ]
  },
  {
   "cell_type": "markdown",
   "metadata": {},
   "source": [
    "*Indica aquí la teva solució*"
   ]
  },
  {
   "cell_type": "markdown",
   "metadata": {},
   "source": [
    "#### Pregunta 6.3: Totes les crides recursives generaran cadenes correctes? se t'acudeix alguna millora?"
   ]
  },
  {
   "cell_type": "markdown",
   "metadata": {},
   "source": [
    "*Indica aquí la teva solució*"
   ]
  },
  {
   "cell_type": "markdown",
   "metadata": {},
   "source": [
    "#### Pregunta 6.4: La complexitat d'aquest algorisme es pot calcular pel teorema del màster? per què?"
   ]
  },
  {
   "cell_type": "markdown",
   "metadata": {},
   "source": [
    "*Indica aquí la teva solució*"
   ]
  }
 ],
 "metadata": {
  "kernelspec": {
   "display_name": "Python 3",
   "language": "python",
   "name": "python3"
  },
  "language_info": {
   "codemirror_mode": {
    "name": "ipython",
    "version": 3
   },
   "file_extension": ".py",
   "mimetype": "text/x-python",
   "name": "python",
   "nbconvert_exporter": "python",
   "pygments_lexer": "ipython3",
   "version": "3.6.1"
  }
 },
 "nbformat": 4,
 "nbformat_minor": 2
}
