{
 "cells": [
  {
   "cell_type": "markdown",
   "metadata": {},
   "source": [
    "# Sessió de problemes 6: Cerca, ordenació i problemes NP-hard. "
   ]
  },
  {
   "cell_type": "markdown",
   "metadata": {},
   "source": [
    "### Problema 1. Zeros al final"
   ]
  },
  {
   "cell_type": "markdown",
   "metadata": {},
   "source": [
    "Donada una llista d’enters, moure tots els zeros que contingui al final de la llista, sense alterar l'ordre relatiu de la resta d'elements."
   ]
  },
  {
   "cell_type": "markdown",
   "metadata": {},
   "source": [
    "Per exemple:\n",
    "+ Llista = ```[3,1,0,5,0,0,2,7,8]```\n",
    "+ Solució: ```[3,1,5,2,7,8,0,0,0]```\n"
   ]
  },
  {
   "cell_type": "code",
   "execution_count": null,
   "metadata": {
    "collapsed": true
   },
   "outputs": [],
   "source": [
    "def moureZerosFinal(llista):\n",
    "    \"\"\"\n",
    "    Aquesta funció mou tots els zeros de la llista donada al final\n",
    "    la funció és una variació del quicksort en que fem swap dels elements\n",
    "    de la llista usant com a pivot el 0\n",
    "    :param llista, la llista d'enters\n",
    "    :return la llista amb els zeros al final\n",
    "    \"\"\"\n",
    "    pass\n",
    "\n",
    "assert moureZerosFinal([0,3,0,1,0,5,0,0,2,7,8]) == [3,1,5,2,7,8,0,0,0,0,0]"
   ]
  },
  {
   "cell_type": "markdown",
   "metadata": {},
   "source": [
    "#### Pregunta 1.1: El problema et recorda algun dels algorismes de dividir i vèncer? Quin? Com el pots usar?"
   ]
  },
  {
   "cell_type": "markdown",
   "metadata": {},
   "source": []
  },
  {
   "cell_type": "markdown",
   "metadata": {},
   "source": [
    "#### Pregunta 1.2: Modifica l'algorisme per moure tot els zeros al principi."
   ]
  },
  {
   "cell_type": "code",
   "execution_count": null,
   "metadata": {
    "collapsed": true
   },
   "outputs": [],
   "source": [
    "def moureZerosInici(llista):\n",
    "    \"\"\"\n",
    "    Aquesta funció mou tots els zeros de la llista donada a l'inici\n",
    "    la funció és una variació del quicksort en que fem swap dels elements\n",
    "    de la llista usant com a pivot el 0\n",
    "    :param llista, la llista d'enters\n",
    "    :return la llista amb els zeros al final\n",
    "    \"\"\"\n",
    "    pass\n",
    "\n",
    "assert moureZerosInici([0,3,0,1,0,5,0,0,2,7,8]) == [0, 0, 0, 0, 0, 3, 1, 5, 2, 7, 8]"
   ]
  },
  {
   "cell_type": "markdown",
   "metadata": {},
   "source": [
    "### Problema 2. Inversions"
   ]
  },
  {
   "cell_type": "markdown",
   "metadata": {},
   "source": [
    "Donada una llista d’enters comptar quantes *inversions* hi ha. Donada una parella $(i, j)$ tal que $i < j$, diem que hi ha  una *inversió* si $A[i] > A [j]$."
   ]
  },
  {
   "cell_type": "markdown",
   "metadata": {},
   "source": [
    "Per exemple:\n",
    "+ Llista= ``[3,1,5,2,7,8,4]``\n",
    "+ Solució: Hi ha 6 inversions a la llista. Les inversions són: ``(3,1),(3,2),(5,2),(5,4),(7,4),(8,4)``.\n"
   ]
  },
  {
   "cell_type": "code",
   "execution_count": null,
   "metadata": {
    "collapsed": true
   },
   "outputs": [],
   "source": [
    "def mergesortInv(list):\n",
    "    \"\"\"\n",
    "    Donada una llista d’enters comptar quantes inversions s'han fet.\n",
    "    Si i < j diem que s'ha fet una inversió a la parella (i, j)\n",
    "    quan A[i] > A [j] .\n",
    "    L'algorisme en realitat és un mergesort modificat.\n",
    "    Si la llista només té un element no hi ha cap inversió,\n",
    "    si la llista té més d'un element la parteix i suma les\n",
    "    inversions de l'esquerra i de la dreta\n",
    "    param: list la llista amb els enters\n",
    "    return: list, inversions la llista ordenada i el nombre d'inversions\"\"\"\n",
    "    pass\n",
    "\n",
    "def mergeInv(left, right, inversions):\n",
    "    \"\"\"\n",
    "    Aquest algorisme és una modificació de l'algorisme de merge que\n",
    "    a banda d'ordenar i fusionar dues subllistes també té un comptador de\n",
    "    les inversions que s'han anat fent\n",
    "    :param left la semillista esquerra\n",
    "    :param right la semillista dreta\n",
    "    :inversions les inversions fetes fins aquell moment\n",
    "    :return les llistes fusionades i ordenades i el recompte d'inversions.\n",
    "    \"\"\"    \n",
    "    pass\n",
    "\n",
    "assert  mergesortInv(Llista) == ([1, 2, 3, 4, 5, 7, 8], 6)"
   ]
  },
  {
   "cell_type": "markdown",
   "metadata": {},
   "source": [
    "#### Pregunta 2.1: Quina solució hauria de donar per als següents valors:\n",
    "\n",
    "- Llista:[1,8,6,4,5]\n",
    "- Llista:[4,6,1,3,9,4]\n",
    "- Llista3:[1,2] "
   ]
  },
  {
   "cell_type": "markdown",
   "metadata": {},
   "source": []
  },
  {
   "cell_type": "markdown",
   "metadata": {},
   "source": [
    "#### Pregunta 2.2: Aquest problema et recorda algun dels algorismes que hem vist de dividir i vèncer? Quin? Com caldria adaptar-lo?"
   ]
  },
  {
   "cell_type": "markdown",
   "metadata": {},
   "source": []
  },
  {
   "cell_type": "markdown",
   "metadata": {},
   "source": [
    "### Problema 3. Trobar la primera i darrera ocurrència d'un nombre donat en una llista ordenada."
   ]
  },
  {
   "cell_type": "markdown",
   "metadata": {},
   "source": [
    "Donada una llista d’enters i  un nombre, trobar la primera i darrera ocurrència d'aquest a la llista. Informar també si el nombre no s'ha trobat.\n",
    "\n",
    "Per exemple:\n",
    "+ Llista=[3,5,5,5,6,6,8,8,9,9,9], Nombre=3\n",
    "+ Solució: La primera ocurrència del 3 és a l'índex 0, la darrera a l'índex 0\n",
    "\n",
    "+ Llista=[3,5,5,5,6,6,8,8,9,9,9], Nombre=9\n",
    "+ Solució: La primera ocurrència del 9 és a l'índex 8, la darrera a l'índex 10\n",
    "\n",
    "+ Llista=[3,5,5,5,6,6,8,8,9,9,9], Nombre=4\n",
    "+ Solució: El nombre 4 no es troba a la llista\n"
   ]
  },
  {
   "cell_type": "code",
   "execution_count": null,
   "metadata": {
    "collapsed": true
   },
   "outputs": [],
   "source": [
    "# Inserir aquí el codi de la solució\n",
    "\n",
    "def recBinSearch(x, nums, low, high):\n",
    "    \"\"\"\n",
    "    Algorisme bàsic de cerca binària recursiva\n",
    "    :param x el nombre a trobar\n",
    "    :param nums la llista de nums a trobar\n",
    "    :param low l'índex més baix de la subllista on estem cercant ara\n",
    "    :param high l'índex més alt de la subllista on estem cercant ara\n",
    "    :return posició de x a nums o -1 si no s'ha trobar\n",
    "    \"\"\"\n",
    "    pass\n",
    "\n",
    "def Ocurrencies(llista, nombre):\n",
    "    \"\"\"\n",
    "    Donada una llista d’enters i un nombre,\n",
    "    aquest programa troba la primera i darrera ocurrència d'aquest a la llista,\n",
    "    i també informa si el nombre no s'ha trobat.\n",
    "    La solució encara es podria optimitzar més si fem cerca binària també\n",
    "    per trobar el primer índex, i no un recorregut seqüèncial\n",
    "    :param paraula la paraula a determina\n",
    "    :return true si la paraula és capicua, false altrament\n",
    "    \"\"\"\n",
    "    pass\n",
    "\n",
    "assert Ocurrencies([3,5,5,5,6,6,8,8,9,9,9],8) == (6, 7)\n",
    "assert Ocurrencies([3,5,5,5,6,6,8,8,9,9,9],4) == -1"
   ]
  },
  {
   "cell_type": "markdown",
   "metadata": {},
   "source": [
    "#### Pregunta 3.1: Podem usar algun algorisme dels vistos a teoria per resoldre aquest problema? Què estem fent per identificar els índexs del nombre donat? \n",
    "\n",
    "**Atenció**: recordeu que la llista és ordenada"
   ]
  },
  {
   "cell_type": "markdown",
   "metadata": {},
   "source": []
  },
  {
   "cell_type": "markdown",
   "metadata": {},
   "source": [
    "#### Pregunta 3.2 Si sabem que el nombre de repeticions sempre és inferior a 5, o per el contrari sabem que el nombre de repeticions pot ser amb probabilitat superior a 30, com podria variar la solució?"
   ]
  },
  {
   "cell_type": "markdown",
   "metadata": {},
   "source": []
  },
  {
   "cell_type": "markdown",
   "metadata": {},
   "source": [
    "### Problema 4. El més petit que falta"
   ]
  },
  {
   "cell_type": "markdown",
   "metadata": {},
   "source": [
    "Donada una llista ordenada d’enters no-negatius, que comença per 0, trobar el valor més petit que hi falta.\n",
    "\n",
    "Per exemple:\n",
    "+ Llista=[0,1,2,3,4,7,12]\n",
    "+ Solució: El més petit que falta és el 5\n",
    "+ Llista=[1,2,3,4,7,12]\n",
    "+ Solució: El més petit que falta és el 0\n"
   ]
  },
  {
   "cell_type": "code",
   "execution_count": null,
   "metadata": {
    "collapsed": true
   },
   "outputs": [],
   "source": [
    "# Inserir aquí el codi de la solució\n",
    "\n",
    "def recbinsearchmod(nums):\n",
    "    pass\n",
    "\n",
    "assert recbinsearchmod([0,1,2,3,4,7,12]) == 5\n",
    "assert recbinsearchmod([1,2,3,4,7,12]) == 0"
   ]
  },
  {
   "cell_type": "markdown",
   "metadata": {},
   "source": [
    "#### Pregunta 4.1: Quins índexs ocupen els diferents enters a la llista d'exemple? \n",
    "\n",
    "- 0:índex\n",
    "- 1:índex \n",
    "- 2:índex\n",
    "- 3:índex\n",
    "- 4:índex\n",
    "- 7:índex\n",
    "- 12:índex\n",
    "\n",
    "Identifiques algun patró que et pugui ajudar a resoldre el problema?"
   ]
  },
  {
   "cell_type": "markdown",
   "metadata": {},
   "source": []
  },
  {
   "cell_type": "markdown",
   "metadata": {},
   "source": [
    "#### Pregunta 4.2 Per paral.lelisme amb l'algorisme de dividir i vèncer, quin ordre de complexitat té aquest algorisme? i la solució de força bruta?"
   ]
  },
  {
   "cell_type": "markdown",
   "metadata": {},
   "source": []
  },
  {
   "cell_type": "markdown",
   "metadata": {},
   "source": [
    "### Problema 5. Rotacions\n",
    "\n",
    "Donada una llista d’enters ordenada circularment, trobar quantes rotacions s'han fet a la llista. Podeu assumir que no hi ha elements duplicats i que les rotacions són en el sentit de les agulles del rellotge.\n",
    "\n",
    "Per exemple:\n",
    "\n",
    "+ Llista=``[9,10,2,5,6,8]``\n",
    "+ Solució: S'han fet 2 rotacions a la llista"
   ]
  },
  {
   "cell_type": "code",
   "execution_count": null,
   "metadata": {
    "collapsed": true
   },
   "outputs": [],
   "source": [
    "# Inserir aquí el codi de la solució\n",
    "\n",
    "def rotacions(llista):\n",
    "    \"\"\"\n",
    "    Donada una llista d’enters ordenada circularment,\n",
    "    aquesta funció troba quantes rotacions s'han fet a la llista.\n",
    "    A la llista no hi ha elements duplicats\n",
    "    i les rotacions són en el sentit de les agulles del rellotge.\n",
    "    El primer element sense rotar serà el nombre menor de la llista\n",
    "    per tant l'algorisme es redueix a una cerca binària d'un element\n",
    "    que té per veí esquerra un element més gran\n",
    "    :param llista d'enters\n",
    "    :return nombre de rotacions\n",
    "    \"\"\"\n",
    "    pass\n",
    "\n",
    "assert rotacions([9,10,2,5,6,8])==2"
   ]
  },
  {
   "cell_type": "markdown",
   "metadata": {},
   "source": [
    "#### Pregunta 5.1 Proposa alguns valors de llistes amb rotacions i indica quantes rotacions s'hi han fet"
   ]
  },
  {
   "cell_type": "markdown",
   "metadata": {},
   "source": []
  },
  {
   "cell_type": "markdown",
   "metadata": {},
   "source": [
    "#### Pregunta 5.2 En els casos anteriors, pots identificar ràpidament l'inici de la llista sense rotacions? Quants enters hi ha abans d'aquest element? Quantes rotacions s'han fet?\n",
    "\n",
    "Planteja l'algorisme com a la cerca d'aquest element (pots basar-te en la solució del problema de l'element pic)"
   ]
  },
  {
   "cell_type": "markdown",
   "metadata": {},
   "source": []
  },
  {
   "cell_type": "markdown",
   "metadata": {},
   "source": [
    "#### Pregunta 5.3: Calcula la complexitat de l'algorisme"
   ]
  },
  {
   "cell_type": "markdown",
   "metadata": {},
   "source": []
  },
  {
   "cell_type": "markdown",
   "metadata": {},
   "source": [
    "### Problema 6. Knapsack (el problema de la motxilla)\n",
    "\n",
    "Donat un conjunt d'elements, cadascun amb un pes i un valor, hem de decidir quins incloure a la motxil.la, de manera que el pes no superi una quantitat donada, i que es maximitzi el valor total."
   ]
  },
  {
   "cell_type": "code",
   "execution_count": 3,
   "metadata": {
    "collapsed": true
   },
   "outputs": [],
   "source": [
    "# Implementació ingènua del problema\n",
    "\n",
    "def knapSack(pesTotal , pesos , valors , n):\n",
    "    if n == 0 or pesTotal == 0 :\n",
    "        return 0\n",
    " \n",
    "    # Si el pes de l'element n-èssim supera la capacitat\n",
    "    # no el posem \n",
    "    if (pesos[n-1] > pesTotal):\n",
    "        return knapSack(pesTotal , pesos , valors , n-1)\n",
    " \n",
    "    # retorna el màxim de dos casos:\n",
    "    # (1) nth item inclos\n",
    "    # (2) nth item no inclos\n",
    "    else:\n",
    "        return max(valors[n-1] + knapSack(pesTotal-pesos[n-1] , pesos , valors , n-1),\n",
    "                   knapSack(pesTotal , pesos , valors , n-1))\n",
    " \n",
    " \n",
    "valors = [20,5,10,40,15,25]\n",
    "pesos = [1,2,3,8,7,4]\n",
    "pesTotal = 10\n",
    "n = len(valors)\n",
    "assert knapSack(10 , pesos , valors , n) == 60"
   ]
  },
  {
   "cell_type": "markdown",
   "metadata": {},
   "source": [
    "És fàcil veure que la funció que hem escrit pateix del mateix problema de la implementació recursiva de l'algorísme de Fibonacci: calcula les mateixes funcions amb els mateixos paràmetres un cop i un altre. De fet, això fa que la seva complexitat sigui $O(2^n)$.\n",
    "\n",
    "Fixeu-vos en l'arbre de recursió següent (on K és ``knapSack() `` i els dos paràmetres són ``n`` i ``pesTotal``). L'arbre de recursió és pels següents valors: `` pesos = [1, 1, 1], pesTotal=2, valors = [10, 20, 30]``. \n",
    "\n",
    "```\n",
    "\n",
    "                      K( 3, 2 )         \n",
    "                   /            \\ \n",
    "                 /                \\               \n",
    "            K(2,2)                  K(2,1)\n",
    "          /       \\                  /    \\ \n",
    "        /           \\              /        \\\n",
    "       K(1,2)      K(1,1)        K(1,1)     K(1,0)\n",
    "       /  \\         /   \\          /   \\\n",
    "     /      \\     /       \\      /       \\\n",
    "K(0,2)  K(0,1)  K(0,1)  K(0,0)  K(0,1)   K(0,0)\n",
    "```"
   ]
  },
  {
   "cell_type": "markdown",
   "metadata": {},
   "source": [
    "#### 6.1 Fer una versió no recursiva de l'algorisme que no repeteixi el càlcul dels subproblemes."
   ]
  },
  {
   "cell_type": "code",
   "execution_count": null,
   "metadata": {
    "collapsed": true
   },
   "outputs": [],
   "source": [
    "def knapSack(pesTotal , pesos , valors , n):\n",
    "    pass\n",
    " \n",
    "valors = [20,5,10,40,15,25]\n",
    "pesos = [1,2,3,8,7,4]\n",
    "pesTotal = 10\n",
    "n = len(valors)\n",
    "assert knapSack(10 , pesos , valors , n) == 60"
   ]
  },
  {
   "cell_type": "markdown",
   "metadata": {},
   "source": [
    "#### 6.2 Resoldre el problema amb un algorisme genètic (exercici optatiu!)"
   ]
  },
  {
   "cell_type": "code",
   "execution_count": 3,
   "metadata": {
    "collapsed": true
   },
   "outputs": [],
   "source": [
    "def knapSack_gen(pesTotal , pesos , valors , n):\n",
    "    pass\n",
    " \n",
    "valors = [20,5,10,40,15,25]\n",
    "pesos = [1,2,3,8,7,4]\n",
    "pesTotal = 10\n",
    "n = len(valors)\n",
    "knapSack_gen(10 , pesos , valors , n)"
   ]
  }
 ],
 "metadata": {
  "kernelspec": {
   "display_name": "Python 3",
   "language": "python",
   "name": "python3"
  },
  "language_info": {
   "codemirror_mode": {
    "name": "ipython",
    "version": 3
   },
   "file_extension": ".py",
   "mimetype": "text/x-python",
   "name": "python",
   "nbconvert_exporter": "python",
   "pygments_lexer": "ipython3",
   "version": "3.6.1"
  }
 },
 "nbformat": 4,
 "nbformat_minor": 2
}
